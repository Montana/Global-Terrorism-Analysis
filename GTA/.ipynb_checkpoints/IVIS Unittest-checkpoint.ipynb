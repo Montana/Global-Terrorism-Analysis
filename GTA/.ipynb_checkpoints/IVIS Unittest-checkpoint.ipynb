{
 "cells": [
  {
   "cell_type": "markdown",
   "metadata": {},
   "source": [
    "# IVIS Unit Tests\n",
    "\n",
    "@Viola, Dec 2016"
   ]
  },
  {
   "cell_type": "code",
   "execution_count": 2,
   "metadata": {
    "collapsed": true
   },
   "outputs": [],
   "source": [
    "%matplotlib inline"
   ]
  },
  {
   "cell_type": "code",
   "execution_count": 7,
   "metadata": {
    "collapsed": false
   },
   "outputs": [],
   "source": [
    "import pandas as pd\n",
    "from data import *\n",
    "from GTA import *\n",
    "import AnalysisAndLinePlot as al\n",
    "import choropleth as cr\n",
    "import util as ut\n",
    "import ipywidgets as widgets"
   ]
  },
  {
   "cell_type": "code",
   "execution_count": 3,
   "metadata": {
    "collapsed": false
   },
   "outputs": [],
   "source": [
    "# df = pd.read_csv('https://bit.ly/uforeports')\n",
    "# df.head()"
   ]
  },
  {
   "cell_type": "markdown",
   "metadata": {},
   "source": [
    "<ul class=\"fa-ul\">\n",
    "  <li><i class=\"fa-li fa fa-check-square\"></i>List icons</li>\n",
    "  <li><i class=\"fa-li fa fa-check-square\"></i>can be used</li>\n",
    "  <li><i class=\"fa-li fa fa-spinner fa-spin\"></i>as bullets</li>\n",
    "  <li><i class=\"fa-li fa fa-square\"></i>in lists</li>\n",
    "</ul>"
   ]
  },
  {
   "cell_type": "markdown",
   "metadata": {},
   "source": [
    "<i class=\"fa fa-quote-left fa-3x fa-pull-left fa-border\" aria-hidden=\"true\"></i>\n",
    "...tomorrow we will run faster, stretch out our arms farther...\n",
    "And then one fine morning&mdash; So we beat on, boats against the\n",
    "current, borne back ceaselessly into the past."
   ]
  },
  {
   "cell_type": "code",
   "execution_count": null,
   "metadata": {
    "collapsed": true
   },
   "outputs": [],
   "source": []
  },
  {
   "cell_type": "code",
   "execution_count": null,
   "metadata": {
    "collapsed": true
   },
   "outputs": [],
   "source": []
  },
  {
   "cell_type": "code",
   "execution_count": null,
   "metadata": {
    "collapsed": true
   },
   "outputs": [],
   "source": []
  },
  {
   "cell_type": "code",
   "execution_count": 75,
   "metadata": {
    "collapsed": true
   },
   "outputs": [],
   "source": [
    "'''\n",
    "This module contains\n",
    "    - functions to plot 2D geo map with Basemap\n",
    "    - functions to assist the plot\n",
    "\n",
    "This module allows users to\n",
    "    - select year interval with ipywidgets\n",
    "    - visualize the terror attacks' occurrence density\n",
    "    - customize map background\n",
    "\n",
    "@author: Xianzhi Cao (xc965)\n",
    "'''\n",
    "\n",
    "\n",
    "from mpl_toolkits.basemap import Basemap\n",
    "import matplotlib.pyplot as plt\n",
    "import pandas as pd\n",
    "import util as ut\n",
    "import re\n",
    "from ipywidgets import *\n",
    "from UserError import *\n",
    "\n",
    "\n",
    "def plot_2D_density(Year, MapStyle):\n",
    "    '''\n",
    "    Parameters\n",
    "        - Year      : between 1970-2015     | str\n",
    "        - MapStyle  : style palette         | str\n",
    "    Return\n",
    "        A 2D Geo Map: The denser the red marker in a country,\n",
    "                      the more severe damages had taken place.\n",
    "    '''\n",
    "    # use regular expression to check the format\n",
    "    if not re.match(r'[\\[|\\(][0-9]{4}\\,\\s?[0-9]{4}[\\]|\\)]$', Year):\n",
    "        raise NotIntervalError\n",
    "\n",
    "    # catch the missing value exceptions in 1993\n",
    "    elif Year == [1993, 1993]:\n",
    "        print('Data of 1993 is not available in Global Terrorism Database.\\n\\\n",
    "Click the link to learn why.\\nhttps://www.start.umd.edu/gtd/faq/')\n",
    "\n",
    "    # catch the out of range yer interval input errors\n",
    "    elif (Year[0] < 1970) or (Year[1] > 2015):\n",
    "        raise IntervalLeakError\n",
    "\n",
    "    else:\n",
    "        df = ut.df_sel_btw_years(Year)\n",
    "        plt.figure(figsize=(18,10), frameon=False)\n",
    "\n",
    "        m = Basemap('mill')\n",
    "        m.drawcountries(linewidth=0.5,\n",
    "                        linestyle='solid',\n",
    "                        color='white',\n",
    "                        antialiased=1,\n",
    "                        ax=None,\n",
    "                        zorder=None\n",
    "                        )\n",
    "\n",
    "        # Background settings\n",
    "        if MapStyle == 'Blue Marble':\n",
    "            m.drawcoastlines()\n",
    "            m.bluemarble()\n",
    "        elif MapStyle == 'Etopo':\n",
    "            m.etopo()\n",
    "        else:\n",
    "            m.drawcoastlines(color='w')\n",
    "            m.drawcountries(color='w')\n",
    "            m.drawstates(color='w')\n",
    "            m.fillcontinents(color='lightblue',lake_color='w')\n",
    "            m.drawmapboundary(fill_color='w', color='w')\n",
    "\n",
    "        # get latitude and longitude\n",
    "        lat = ut.make_array(df, 'latitude')\n",
    "        lon = ut.make_array(df, 'longitude')\n",
    "\n",
    "        x,y = m(lon, lat)\n",
    "        m.plot(x, y, 'r^', marker='o', markersize=4, alpha=.3)\n",
    "\n",
    "        plt.title('Global Attack Density Plot: {}-{}'.format(Year[0], Year[1]), size=16)\n",
    "        plt.show()\n",
    "\n",
    "\n",
    "def year_interval_slider():\n",
    "    '''\n",
    "    Return a year interval from ipywidgets' IntSlider by users' manual pick\n",
    "    '''\n",
    "    yr_interval = IntRangeSlider(value=[1996, 2000],\n",
    "                                 min=1970,\n",
    "                                 max=2015,\n",
    "                                 step=1,\n",
    "                                 description='Year:',\n",
    "                                 disabled=False,\n",
    "                                 continuous_update=False,\n",
    "                                 orientation='horizontal',\n",
    "                                 readout=True,\n",
    "                                 readout_format='i',\n",
    "                                 slider_color='white',\n",
    "                                 color='black')\n",
    "    yr_interval.layout.width = '80%'\n",
    "    return yr_interval\n",
    "\n",
    "\n",
    "def map_style_picker():\n",
    "    '''\n",
    "    Return a string from ipywidgets' Dropdown box by users' manual pick\n",
    "    '''\n",
    "    return Dropdown(options=('Blue Marble', 'Etopo', 'Plain'),\n",
    "                    value='Plain',\n",
    "                    description='Map Style:',\n",
    "                    disabled=False,\n",
    "                    button_style='info')\n",
    "\n",
    "\n",
    "def Display_Your_Geo2D_Map():\n",
    "    '''\n",
    "    Allow users to interactively explore data information\n",
    "    and customize the 2D Geo Map\n",
    "    '''\n",
    "    interact(plot_2D_density, Year=year_interval_slider(), MapStyle=map_style_picker())\n"
   ]
  },
  {
   "cell_type": "code",
   "execution_count": 76,
   "metadata": {
    "collapsed": false
   },
   "outputs": [
    {
     "ename": "TypeError",
     "evalue": "expected string or bytes-like object",
     "output_type": "error",
     "traceback": [
      "\u001b[0;31m---------------------------------------------------------------------------\u001b[0m",
      "\u001b[0;31mTypeError\u001b[0m                                 Traceback (most recent call last)",
      "\u001b[0;32m<ipython-input-75-775647b35863>\u001b[0m in \u001b[0;36mplot_2D_density\u001b[0;34m(Year, MapStyle)\u001b[0m\n\u001b[1;32m     32\u001b[0m     '''\n\u001b[1;32m     33\u001b[0m     \u001b[0;31m# use regular expression to check the format\u001b[0m\u001b[0;34m\u001b[0m\u001b[0;34m\u001b[0m\u001b[0m\n\u001b[0;32m---> 34\u001b[0;31m     \u001b[0;32mif\u001b[0m \u001b[0;32mnot\u001b[0m \u001b[0mre\u001b[0m\u001b[0;34m.\u001b[0m\u001b[0mmatch\u001b[0m\u001b[0;34m(\u001b[0m\u001b[0;34mr'[\\[|\\(]\\d{4}\\,\\s?\\d{4}[\\]|\\)]$'\u001b[0m\u001b[0;34m,\u001b[0m \u001b[0mYear\u001b[0m\u001b[0;34m)\u001b[0m\u001b[0;34m:\u001b[0m\u001b[0;34m\u001b[0m\u001b[0m\n\u001b[0m\u001b[1;32m     35\u001b[0m         \u001b[0;32mraise\u001b[0m \u001b[0mNotIntervalError\u001b[0m\u001b[0;34m\u001b[0m\u001b[0m\n\u001b[1;32m     36\u001b[0m \u001b[0;34m\u001b[0m\u001b[0m\n",
      "\u001b[0;32m/Users/Viola/anaconda/lib/python3.5/re.py\u001b[0m in \u001b[0;36mmatch\u001b[0;34m(pattern, string, flags)\u001b[0m\n\u001b[1;32m    161\u001b[0m     \"\"\"Try to apply the pattern at the start of the string, returning\n\u001b[1;32m    162\u001b[0m     a match object, or None if no match was found.\"\"\"\n\u001b[0;32m--> 163\u001b[0;31m     \u001b[0;32mreturn\u001b[0m \u001b[0m_compile\u001b[0m\u001b[0;34m(\u001b[0m\u001b[0mpattern\u001b[0m\u001b[0;34m,\u001b[0m \u001b[0mflags\u001b[0m\u001b[0;34m)\u001b[0m\u001b[0;34m.\u001b[0m\u001b[0mmatch\u001b[0m\u001b[0;34m(\u001b[0m\u001b[0mstring\u001b[0m\u001b[0;34m)\u001b[0m\u001b[0;34m\u001b[0m\u001b[0m\n\u001b[0m\u001b[1;32m    164\u001b[0m \u001b[0;34m\u001b[0m\u001b[0m\n\u001b[1;32m    165\u001b[0m \u001b[0;32mdef\u001b[0m \u001b[0mfullmatch\u001b[0m\u001b[0;34m(\u001b[0m\u001b[0mpattern\u001b[0m\u001b[0;34m,\u001b[0m \u001b[0mstring\u001b[0m\u001b[0;34m,\u001b[0m \u001b[0mflags\u001b[0m\u001b[0;34m=\u001b[0m\u001b[0;36m0\u001b[0m\u001b[0;34m)\u001b[0m\u001b[0;34m:\u001b[0m\u001b[0;34m\u001b[0m\u001b[0m\n",
      "\u001b[0;31mTypeError\u001b[0m: expected string or bytes-like object"
     ]
    }
   ],
   "source": [
    "Display_Your_Geo2D_Map()"
   ]
  },
  {
   "cell_type": "code",
   "execution_count": null,
   "metadata": {
    "collapsed": true
   },
   "outputs": [],
   "source": []
  }
 ],
 "metadata": {
  "anaconda-cloud": {},
  "kernelspec": {
   "display_name": "Python [Root]",
   "language": "python",
   "name": "Python [Root]"
  },
  "language_info": {
   "codemirror_mode": {
    "name": "ipython",
    "version": 3
   },
   "file_extension": ".py",
   "mimetype": "text/x-python",
   "name": "python",
   "nbconvert_exporter": "python",
   "pygments_lexer": "ipython3",
   "version": "3.5.2"
  },
  "widgets": {
   "state": {
    "710e4d6225b34f74bf3d00ad54ad40d5": {
     "views": [
      {
       "cell_index": 10
      }
     ]
    }
   },
   "version": "1.2.0"
  }
 },
 "nbformat": 4,
 "nbformat_minor": 0
}
