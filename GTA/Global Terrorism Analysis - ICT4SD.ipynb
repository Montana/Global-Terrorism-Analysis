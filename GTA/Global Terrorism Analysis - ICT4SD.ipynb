{
 "cells": [
  {
   "cell_type": "markdown",
   "metadata": {
    "nbpresent": {
     "id": "660e2277-36ab-4ac9-a40b-146bdc98dfe2"
    }
   },
   "source": [
    "[![Center for Data Science - New York University](https://raw.githubusercontent.com/violaciao/Global-Terrorism-Analysis/master/header.jpg)](https://ict4sd.github.io/2016/11/11/Project_Global_Terror/)  \n",
    "<span class=\"caption text-muted\">  </span>"
   ]
  },
  {
   "cell_type": "markdown",
   "metadata": {},
   "source": [
    "<div class=\"alert alert-info fade in\">\n",
    "    <a href=\"#\" class=\"close\" data-dismiss=\"alert\">&times;</a>\n",
    "    <strong><i class=\"fa fa-book\" aria-hidden=\"true\"></i></strong> <font color='steelblue'>  [User Manual](https://docs.google.com/document/d/1KNxP-8Ccey1tM1sOBJRB7VyB3rjtPe2gbDFlHtD_iCk/edit?usp=sharing)</font>\n",
    "</div>"
   ]
  },
  {
   "cell_type": "markdown",
   "metadata": {},
   "source": [
    "<font color='skyblue'>\n",
    "    <h1 align=\"center\">\n",
    "        <i class=\"fa fa-globe fa-spin fa-5x fa-fw\"></i>\n",
    "        <span class=\"sr-only\">Loading...</span>\n",
    "    </h1>\n",
    "</font>"
   ]
  },
  {
   "cell_type": "markdown",
   "metadata": {
    "nbpresent": {
     "id": "f6aa5fed-a54d-4ed7-b5af-b31af3ec3d91"
    }
   },
   "source": [
    "<font color='steelblue'>\n",
    "    <h1 align=\"center\">\n",
    "        <i class=\"fa fa-line-chart fa-2x\"> Statistical Overview</i>\n",
    "    </h1>\n",
    "</font>"
   ]
  },
  {
   "cell_type": "markdown",
   "metadata": {},
   "source": [
    "This section provides a statistical overview of country wise terrorism attack analysis.\n",
    "\n",
    "The numbers of species listed in each category in The IUCN Red List of Threatened SpeciesTM change each time it is updated. This is a result of various factors, including species being assessed and added to The IUCN Red List for the first time, species being reassessed and moving into a different category of threat, and taxonomic revisions causing the total number of recognised species within a group to change. Summaries of the numbers of species in each Red List Category by taxonomic group and by country are provided here for the current version of The IUCN Red List.\n",
    "All of the statistics presented in the following tables and figures are for species only (i.e., they do not include subspecies, varieties or geographically isolated subpopulations or stocks). More detailed analyses of specific taxonomic groups and the results of regional assessment projects carried out by IUCN can be found in the Initiatives section. For detailed results of assessments for marine species, see the Global Marine Species Assessment web site."
   ]
  },
  {
   "cell_type": "code",
   "execution_count": 1,
   "metadata": {
    "collapsed": false
   },
   "outputs": [
    {
     "ename": "ImportError",
     "evalue": "No module named 'bubble_chart_class'",
     "output_type": "error",
     "traceback": [
      "\u001b[0;31m---------------------------------------------------------------------------\u001b[0m",
      "\u001b[0;31mImportError\u001b[0m                               Traceback (most recent call last)",
      "\u001b[0;32m<ipython-input-1-a88fa026ecf0>\u001b[0m in \u001b[0;36m<module>\u001b[0;34m()\u001b[0m\n\u001b[1;32m      1\u001b[0m \u001b[0mget_ipython\u001b[0m\u001b[0;34m(\u001b[0m\u001b[0;34m)\u001b[0m\u001b[0;34m.\u001b[0m\u001b[0mmagic\u001b[0m\u001b[0;34m(\u001b[0m\u001b[0;34m'matplotlib inline'\u001b[0m\u001b[0;34m)\u001b[0m\u001b[0;34m\u001b[0m\u001b[0m\n\u001b[0;32m----> 2\u001b[0;31m \u001b[0;32mfrom\u001b[0m \u001b[0mGTA\u001b[0m \u001b[0;32mimport\u001b[0m \u001b[0;34m*\u001b[0m\u001b[0;34m\u001b[0m\u001b[0m\n\u001b[0m",
      "\u001b[0;32m/Users/Viola/Documents/workspace/GTA/GTA/GTA/GTA.py\u001b[0m in \u001b[0;36m<module>\u001b[0;34m()\u001b[0m\n\u001b[1;32m     20\u001b[0m \u001b[0;32mimport\u001b[0m \u001b[0mchoropleth\u001b[0m \u001b[0;32mas\u001b[0m \u001b[0mcr\u001b[0m\u001b[0;34m\u001b[0m\u001b[0m\n\u001b[1;32m     21\u001b[0m \u001b[0;32mimport\u001b[0m \u001b[0mGeo2D\u001b[0m \u001b[0;32mas\u001b[0m \u001b[0mgeo\u001b[0m\u001b[0;34m\u001b[0m\u001b[0m\n\u001b[0;32m---> 22\u001b[0;31m \u001b[0;32mimport\u001b[0m \u001b[0mbubble_chart\u001b[0m \u001b[0;32mas\u001b[0m \u001b[0mbc\u001b[0m\u001b[0;34m\u001b[0m\u001b[0m\n\u001b[0m\u001b[1;32m     23\u001b[0m \u001b[0;32mimport\u001b[0m \u001b[0mdot_plot\u001b[0m \u001b[0;32mas\u001b[0m \u001b[0mdot\u001b[0m\u001b[0;34m\u001b[0m\u001b[0m\n\u001b[1;32m     24\u001b[0m \u001b[0;34m\u001b[0m\u001b[0m\n",
      "\u001b[0;32m/Users/Viola/Documents/workspace/GTA/GTA/GTA/bubble_chart.py\u001b[0m in \u001b[0;36m<module>\u001b[0;34m()\u001b[0m\n\u001b[1;32m     13\u001b[0m \u001b[0;32mimport\u001b[0m \u001b[0mmatplotlib\u001b[0m\u001b[0;34m.\u001b[0m\u001b[0mpatches\u001b[0m \u001b[0;32mas\u001b[0m \u001b[0mmpatches\u001b[0m\u001b[0;34m\u001b[0m\u001b[0m\n\u001b[1;32m     14\u001b[0m \u001b[0;32mfrom\u001b[0m \u001b[0mmatplotlib\u001b[0m \u001b[0;32mimport\u001b[0m \u001b[0mcm\u001b[0m\u001b[0;34m\u001b[0m\u001b[0m\n\u001b[0;32m---> 15\u001b[0;31m \u001b[0;32mimport\u001b[0m \u001b[0mbubble_chart_class\u001b[0m \u001b[0;32mas\u001b[0m \u001b[0mbcc\u001b[0m\u001b[0;34m\u001b[0m\u001b[0m\n\u001b[0m\u001b[1;32m     16\u001b[0m \u001b[0;34m\u001b[0m\u001b[0m\n\u001b[1;32m     17\u001b[0m \u001b[0mGlobal_terrorism_analysis\u001b[0m \u001b[0;34m=\u001b[0m \u001b[0mhm\u001b[0m\u001b[0;34m.\u001b[0m\u001b[0mGTA\u001b[0m\u001b[0;34m(\u001b[0m\u001b[0;34m)\u001b[0m\u001b[0;34m\u001b[0m\u001b[0m\n",
      "\u001b[0;31mImportError\u001b[0m: No module named 'bubble_chart_class'"
     ]
    }
   ],
   "source": [
    "%matplotlib inline\n",
    "from GTA import *"
   ]
  },
  {
   "cell_type": "code",
   "execution_count": null,
   "metadata": {
    "collapsed": false,
    "nbpresent": {
     "id": "43651794-f048-45f5-ae71-3306c8d374d6"
    },
    "scrolled": false
   },
   "outputs": [],
   "source": [
    "GTA_AL()"
   ]
  },
  {
   "cell_type": "markdown",
   "metadata": {},
   "source": [
    "<div class=\"alert alert-info\"> <div>"
   ]
  },
  {
   "cell_type": "markdown",
   "metadata": {},
   "source": [
    "\n",
    "<h1 align=\"center\"><font color='steelblue'>     </font></h1>"
   ]
  },
  {
   "cell_type": "markdown",
   "metadata": {
    "collapsed": true
   },
   "source": [
    "<font color='steelblue'>\n",
    "    <h1 align=\"center\">\n",
    "        <i class=\"fa fa-area-chart fa-2x\"> Geographic Timeline Variation</i>\n",
    "    </h1>\n",
    "</font>"
   ]
  },
  {
   "cell_type": "code",
   "execution_count": null,
   "metadata": {
    "collapsed": false,
    "scrolled": false
   },
   "outputs": [],
   "source": [
    "GTA_CHR()"
   ]
  },
  {
   "cell_type": "markdown",
   "metadata": {},
   "source": [
    "\n",
    "<h1 align=\"center\"><font color='steelblue'>     </font></h1>"
   ]
  },
  {
   "cell_type": "markdown",
   "metadata": {
    "collapsed": true
   },
   "source": [
    "<font color='steelblue'>\n",
    "    <h1 align=\"center\">\n",
    "        <i class=\"fa fa-map-marker fa-2x\"> Geographic Attack Density</i>\n",
    "    </h1>\n",
    "</font>"
   ]
  },
  {
   "cell_type": "code",
   "execution_count": null,
   "metadata": {
    "collapsed": false,
    "scrolled": false
   },
   "outputs": [],
   "source": [
    "GTA_GEO()"
   ]
  },
  {
   "cell_type": "markdown",
   "metadata": {
    "nbpresent": {
     "id": "6a723a6e-d445-433f-b09e-348658254c91"
    }
   },
   "source": [
    "\n",
    "<h1 align=\"center\"><font color='steelblue'>    </font></h1>"
   ]
  },
  {
   "cell_type": "markdown",
   "metadata": {
    "collapsed": true
   },
   "source": [
    "<font color='steelblue'>\n",
    "    <h1 align=\"center\">\n",
    "        <i class=\"fa fa-th fa-2x\">  Regional Heatmap Over Time</i>\n",
    "    </h1>\n",
    "</font>"
   ]
  },
  {
   "cell_type": "code",
   "execution_count": null,
   "metadata": {
    "collapsed": false,
    "nbpresent": {
     "id": "7e61ec4a-5dd0-4678-ba4e-b436c075b2ca"
    },
    "scrolled": false
   },
   "outputs": [],
   "source": [
    "GTA_HT()"
   ]
  },
  {
   "cell_type": "markdown",
   "metadata": {
    "nbpresent": {
     "id": "3f02dd15-ab29-4a09-a214-d7d4d78d2af1"
    }
   },
   "source": [
    " "
   ]
  },
  {
   "cell_type": "markdown",
   "metadata": {},
   "source": [
    "   "
   ]
  },
  {
   "cell_type": "markdown",
   "metadata": {},
   "source": [
    "\n",
    "<h1 align=\"center\"><font color='steelblue'>     </font></h1>"
   ]
  },
  {
   "cell_type": "markdown",
   "metadata": {
    "collapsed": true
   },
   "source": [
    "<font color='steelblue'>\n",
    "    <h1 align=\"center\">\n",
    "        <i class=\"fa fa-spinner fa-2x\"> Bubble Chart Over Time</i>\n",
    "    </h1>\n",
    "</font>"
   ]
  },
  {
   "cell_type": "code",
   "execution_count": null,
   "metadata": {
    "collapsed": false
   },
   "outputs": [],
   "source": [
    "GTA_BC()"
   ]
  },
  {
   "cell_type": "markdown",
   "metadata": {},
   "source": [
    "  "
   ]
  },
  {
   "cell_type": "code",
   "execution_count": null,
   "metadata": {
    "collapsed": false
   },
   "outputs": [],
   "source": [
    "# GTA_BC()"
   ]
  },
  {
   "cell_type": "markdown",
   "metadata": {},
   "source": [
    "<font color='steelblue'>\n",
    "    <h1 align=\"center\">\n",
    "        <i class=\"fa fa-sort-amount-desc fa-2x\"> Attack Type Ranking Overview</i>\n",
    "    </h1>\n",
    "</font>"
   ]
  },
  {
   "cell_type": "code",
   "execution_count": null,
   "metadata": {
    "collapsed": false
   },
   "outputs": [],
   "source": [
    "GTA_BC()"
   ]
  },
  {
   "cell_type": "markdown",
   "metadata": {},
   "source": [
    "  "
   ]
  },
  {
   "cell_type": "markdown",
   "metadata": {},
   "source": [
    "[<img src=\"https://ict4sd.github.io/img/E_Logo_No%20UN%20Emblem-01.png\" width=\"700\">](http://www.un.org/sustainabledevelopment/)"
   ]
  },
  {
   "cell_type": "markdown",
   "metadata": {},
   "source": [
    "<h3 align=\"center\">\n",
    "<a href=\"https://github.com/violaciao/Global-Terrorism-Analysis\"><i class=\"fa fa-github\" aria-hidden=\"true\"></i> View this project's code on Github</a>\n",
    "</h3>"
   ]
  },
  {
   "cell_type": "markdown",
   "metadata": {
    "nbpresent": {
     "id": "4e26330e-d4d2-4d64-981a-45e2b0043d3a"
    },
    "slideshow": {
     "slide_type": "-"
    }
   },
   "source": [
    "<font color='skyblue'>\n",
    "    <h3 align=\"center\">\n",
    "        This is a project for NYU Center for Data Science and the United Nations ICT4SD. \n",
    "    </h3>\n",
    "</font>\n",
    "\n",
    "<h3 align=\"center\"><font color='skyblue'>Love it? <i class=\"fa fa-thumbs-o-up fa-1x\"> </i> Contact us for feedback.</font></h3>\n",
    "<h3 align=\"center\"><font color='darkgrey'>Viola & Caroline</font></h3>\n",
    "-------------------------------------------\n",
    "-------------------------------------------"
   ]
  },
  {
   "cell_type": "markdown",
   "metadata": {},
   "source": [
    "<div class=\"container\">\n",
    "        <div class=\"row\">\n",
    "            <div class=\"col-lg-4 col-lg-offset-3 col-md-1 col-md-offset-1\">\n",
    "                <ul class=\"list-inline text-center\">\n",
    "                    <li>\n",
    "                        <a href=\"https://www.facebook.com/viola.x.ciao\">\n",
    "                            <span class=\"fa-stack fa-lg\">\n",
    "                                <i class=\"fa fa-circle fa-stack-2x\"></i>\n",
    "                                <i class=\"fa fa-facebook fa-stack-1x fa-inverse\"></i>\n",
    "                            </span>\n",
    "                        </a>\n",
    "                    </li>\n",
    "                    <li>\n",
    "                        <a href=\"https://github.com/violaciao\">\n",
    "                            <span class=\"fa-stack fa-lg\">\n",
    "                                <i class=\"fa fa-circle fa-stack-2x\"></i>\n",
    "                                <i class=\"fa fa-github fa-stack-1x fa-inverse\"></i>\n",
    "                            </span>\n",
    "                        </a>\n",
    "                    </li>\n",
    "                    <li>\n",
    "                        <a href=\"mailto:xianzhi.cao@nyu.edu\">\n",
    "                            <span class=\"fa-stack fa-lg\">\n",
    "                                <i class=\"fa fa-circle fa-stack-2x\"></i>\n",
    "                                <i class=\"fa fa-envelope fa-stack-1x fa-inverse\"></i>\n",
    "                            </span>\n",
    "                        </a>\n",
    "                    </li>\n",
    "                </ul>\n",
    "            </div>\n",
    "        </div>\n",
    "    </div>"
   ]
  },
  {
   "cell_type": "markdown",
   "metadata": {},
   "source": [
    "###      "
   ]
  },
  {
   "cell_type": "code",
   "execution_count": null,
   "metadata": {
    "collapsed": false
   },
   "outputs": [],
   "source": [
    "from IPython.display import HTML\n",
    "HTML('''<script>\n",
    "code_show=true; \n",
    "function code_toggle() {\n",
    " if (code_show){\n",
    " $('div.input').hide();\n",
    " } else {\n",
    " $('div.input').show();\n",
    " }\n",
    " code_show = !code_show\n",
    "} \n",
    "$( document ).ready(code_toggle);\n",
    "</script>\n",
    "<a href=\"javascript:code_toggle()\">Show Code</a>.''')"
   ]
  },
  {
   "cell_type": "code",
   "execution_count": null,
   "metadata": {
    "collapsed": true
   },
   "outputs": [],
   "source": []
  }
 ],
 "metadata": {
  "anaconda-cloud": {},
  "kernelspec": {
   "display_name": "Python [Root]",
   "language": "python",
   "name": "Python [Root]"
  },
  "language_info": {
   "codemirror_mode": {
    "name": "ipython",
    "version": 3
   },
   "file_extension": ".py",
   "mimetype": "text/x-python",
   "name": "python",
   "nbconvert_exporter": "python",
   "pygments_lexer": "ipython3",
   "version": "3.5.2"
  }
 },
 "nbformat": 4,
 "nbformat_minor": 0
}
