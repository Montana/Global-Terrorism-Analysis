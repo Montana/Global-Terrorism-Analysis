{
 "cells": [
  {
   "cell_type": "markdown",
   "metadata": {},
   "source": [
    "# IVIS Unit Tests\n",
    "\n",
    "@Viola, Dec 2016"
   ]
  },
  {
   "cell_type": "code",
   "execution_count": 1,
   "metadata": {
    "collapsed": true
   },
   "outputs": [],
   "source": [
    "%matplotlib inline"
   ]
  },
  {
   "cell_type": "code",
   "execution_count": 2,
   "metadata": {
    "collapsed": false
   },
   "outputs": [],
   "source": [
    "import pandas as pd\n",
    "from data import *\n",
    "from IVIS import *\n",
    "import AnalysisAndLinePlot as al\n",
    "import util as ut\n",
    "import ipywidgets as widgets"
   ]
  },
  {
   "cell_type": "code",
   "execution_count": 3,
   "metadata": {
    "collapsed": false
   },
   "outputs": [],
   "source": [
    "# df = pd.read_csv('https://bit.ly/uforeports')\n",
    "# df.head()"
   ]
  },
  {
   "cell_type": "code",
   "execution_count": 4,
   "metadata": {
    "collapsed": false
   },
   "outputs": [
    {
     "data": {
      "text/html": [
       "<div>\n",
       "<table border=\"1\" class=\"dataframe\">\n",
       "  <thead>\n",
       "    <tr style=\"text-align: right;\">\n",
       "      <th></th>\n",
       "      <th>count</th>\n",
       "      <th>mean</th>\n",
       "      <th>std</th>\n",
       "      <th>min</th>\n",
       "      <th>25%</th>\n",
       "      <th>50%</th>\n",
       "      <th>75%</th>\n",
       "      <th>max</th>\n",
       "      <th>sum</th>\n",
       "    </tr>\n",
       "  </thead>\n",
       "  <tbody>\n",
       "    <tr>\n",
       "      <th>year</th>\n",
       "      <td>45.0</td>\n",
       "      <td>1992.488889</td>\n",
       "      <td>13.574077</td>\n",
       "      <td>1970.0</td>\n",
       "      <td>1981.0</td>\n",
       "      <td>1992.0</td>\n",
       "      <td>2004.0</td>\n",
       "      <td>2015.0</td>\n",
       "      <td>89662.0</td>\n",
       "    </tr>\n",
       "    <tr>\n",
       "      <th>kills</th>\n",
       "      <td>45.0</td>\n",
       "      <td>1.044444</td>\n",
       "      <td>2.662497</td>\n",
       "      <td>0.0</td>\n",
       "      <td>0.0</td>\n",
       "      <td>0.0</td>\n",
       "      <td>1.0</td>\n",
       "      <td>15.0</td>\n",
       "      <td>47.0</td>\n",
       "    </tr>\n",
       "    <tr>\n",
       "      <th>wounds</th>\n",
       "      <td>45.0</td>\n",
       "      <td>154.933333</td>\n",
       "      <td>928.632925</td>\n",
       "      <td>0.0</td>\n",
       "      <td>0.0</td>\n",
       "      <td>0.0</td>\n",
       "      <td>2.0</td>\n",
       "      <td>6225.0</td>\n",
       "      <td>6972.0</td>\n",
       "    </tr>\n",
       "    <tr>\n",
       "      <th>casualties</th>\n",
       "      <td>45.0</td>\n",
       "      <td>155.977778</td>\n",
       "      <td>930.851968</td>\n",
       "      <td>0.0</td>\n",
       "      <td>0.0</td>\n",
       "      <td>0.0</td>\n",
       "      <td>3.0</td>\n",
       "      <td>6240.0</td>\n",
       "      <td>7019.0</td>\n",
       "    </tr>\n",
       "    <tr>\n",
       "      <th>occurrences</th>\n",
       "      <td>45.0</td>\n",
       "      <td>8.888889</td>\n",
       "      <td>15.600440</td>\n",
       "      <td>0.0</td>\n",
       "      <td>1.0</td>\n",
       "      <td>3.0</td>\n",
       "      <td>12.0</td>\n",
       "      <td>93.0</td>\n",
       "      <td>400.0</td>\n",
       "    </tr>\n",
       "  </tbody>\n",
       "</table>\n",
       "</div>"
      ],
      "text/plain": [
       "             count         mean         std     min     25%     50%     75%  \\\n",
       "year          45.0  1992.488889   13.574077  1970.0  1981.0  1992.0  2004.0   \n",
       "kills         45.0     1.044444    2.662497     0.0     0.0     0.0     1.0   \n",
       "wounds        45.0   154.933333  928.632925     0.0     0.0     0.0     2.0   \n",
       "casualties    45.0   155.977778  930.851968     0.0     0.0     0.0     3.0   \n",
       "occurrences   45.0     8.888889   15.600440     0.0     1.0     3.0    12.0   \n",
       "\n",
       "                max      sum  \n",
       "year         2015.0  89662.0  \n",
       "kills          15.0     47.0  \n",
       "wounds       6225.0   6972.0  \n",
       "casualties   6240.0   7019.0  \n",
       "occurrences    93.0    400.0  "
      ]
     },
     "execution_count": 4,
     "metadata": {},
     "output_type": "execute_result"
    }
   ],
   "source": [
    "al.ctr_stats('Japan')"
   ]
  },
  {
   "cell_type": "code",
   "execution_count": null,
   "metadata": {
    "collapsed": true
   },
   "outputs": [],
   "source": []
  }
 ],
 "metadata": {
  "anaconda-cloud": {},
  "kernelspec": {
   "display_name": "Python [Root]",
   "language": "python",
   "name": "Python [Root]"
  },
  "language_info": {
   "codemirror_mode": {
    "name": "ipython",
    "version": 3
   },
   "file_extension": ".py",
   "mimetype": "text/x-python",
   "name": "python",
   "nbconvert_exporter": "python",
   "pygments_lexer": "ipython3",
   "version": "3.5.2"
  }
 },
 "nbformat": 4,
 "nbformat_minor": 0
}
