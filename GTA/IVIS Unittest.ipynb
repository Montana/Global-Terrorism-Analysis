{
 "cells": [
  {
   "cell_type": "markdown",
   "metadata": {},
   "source": [
    "# IVIS Unit Tests\n",
    "\n",
    "@Viola, Dec 2016"
   ]
  },
  {
   "cell_type": "code",
   "execution_count": 2,
   "metadata": {
    "collapsed": true
   },
   "outputs": [],
   "source": [
    "%matplotlib inline"
   ]
  },
  {
   "cell_type": "code",
   "execution_count": 7,
   "metadata": {
    "collapsed": false
   },
   "outputs": [],
   "source": [
    "import pandas as pd\n",
    "from data import *\n",
    "from GTA import *\n",
    "import AnalysisAndLinePlot as al\n",
    "import choropleth as cr\n",
    "import util as ut\n",
    "import ipywidgets as widgets"
   ]
  },
  {
   "cell_type": "code",
   "execution_count": 3,
   "metadata": {
    "collapsed": false
   },
   "outputs": [],
   "source": [
    "# df = pd.read_csv('https://bit.ly/uforeports')\n",
    "# df.head()"
   ]
  },
  {
   "cell_type": "markdown",
   "metadata": {},
   "source": [
    "<ul class=\"fa-ul\">\n",
    "  <li><i class=\"fa-li fa fa-check-square\"></i>List icons</li>\n",
    "  <li><i class=\"fa-li fa fa-check-square\"></i>can be used</li>\n",
    "  <li><i class=\"fa-li fa fa-spinner fa-spin\"></i>as bullets</li>\n",
    "  <li><i class=\"fa-li fa fa-square\"></i>in lists</li>\n",
    "</ul>"
   ]
  },
  {
   "cell_type": "markdown",
   "metadata": {},
   "source": [
    "<i class=\"fa fa-quote-left fa-3x fa-pull-left fa-border\" aria-hidden=\"true\"></i>\n",
    "...tomorrow we will run faster, stretch out our arms farther...\n",
    "And then one fine morning&mdash; So we beat on, boats against the\n",
    "current, borne back ceaselessly into the past."
   ]
  },
  {
   "cell_type": "code",
   "execution_count": 107,
   "metadata": {
    "collapsed": true
   },
   "outputs": [],
   "source": [
    "'''\n",
    "This module includes:\n",
    "    - GTA class, with the attrubutes:\n",
    "        1. feature-selected dataframe of Global Terrorism Database\n",
    "        2. a unieque list of region names\n",
    "    - visualization function of the dataset in heatmap\n",
    "    - the target feature\n",
    "    - the visualizing color palette\n",
    "\n",
    "@author: Xianzhi Cao (xc965)\n",
    "'''\n",
    "\n",
    "\n",
    "import matplotlib.pyplot as plt\n",
    "import pandas as pd\n",
    "import seaborn as sns\n",
    "from util import *\n",
    "from data import *\n",
    "from ipywidgets import interact, ToggleButtons, Dropdown\n",
    "\n",
    "\n",
    "class GTA(object):\n",
    "    '''\n",
    "    contains attributes of:\n",
    "        - DataFrame of Global Terrorism data selection\n",
    "        - list of all regions' names\n",
    "        - function of get\n",
    "    '''\n",
    "    def __init__(self):\n",
    "        self.gt_df = load_df()\n",
    "        self.region_names = self.gt_df.region.unique().tolist()\n",
    "\n",
    "\n",
    "    def countries_by_region(self):\n",
    "        '''\n",
    "        Return a dict with items:\n",
    "            - keys:    region names\n",
    "            - values:  country names keyed by certain region\n",
    "        '''\n",
    "        country_names = {}\n",
    "        for region in self.region_names:\n",
    "            country_names[region] = self.gt_df[self.gt_df.region == region].dropna().country.unique()\n",
    "        return country_names"
   ]
  },
  {
   "cell_type": "code",
   "execution_count": 118,
   "metadata": {
    "collapsed": false
   },
   "outputs": [
    {
     "data": {
      "text/plain": [
       "<__main__.GTA at 0x118f2a5f8>"
      ]
     },
     "execution_count": 118,
     "metadata": {},
     "output_type": "execute_result"
    }
   ],
   "source": [
    "GTA()"
   ]
  },
  {
   "cell_type": "code",
   "execution_count": 119,
   "metadata": {
    "collapsed": true
   },
   "outputs": [],
   "source": [
    "dic = {'a': [1, 2, 3], 'b': [3, 5, 7]}"
   ]
  },
  {
   "cell_type": "code",
   "execution_count": 122,
   "metadata": {
    "collapsed": false
   },
   "outputs": [
    {
     "data": {
      "text/plain": [
       "dict_keys(['b', 'a'])"
      ]
     },
     "execution_count": 122,
     "metadata": {},
     "output_type": "execute_result"
    }
   ],
   "source": [
    "dic.keys()"
   ]
  },
  {
   "cell_type": "code",
   "execution_count": null,
   "metadata": {
    "collapsed": true
   },
   "outputs": [],
   "source": []
  }
 ],
 "metadata": {
  "anaconda-cloud": {},
  "kernelspec": {
   "display_name": "Python [Root]",
   "language": "python",
   "name": "Python [Root]"
  },
  "language_info": {
   "codemirror_mode": {
    "name": "ipython",
    "version": 3
   },
   "file_extension": ".py",
   "mimetype": "text/x-python",
   "name": "python",
   "nbconvert_exporter": "python",
   "pygments_lexer": "ipython3",
   "version": "3.5.2"
  }
 },
 "nbformat": 4,
 "nbformat_minor": 0
}
